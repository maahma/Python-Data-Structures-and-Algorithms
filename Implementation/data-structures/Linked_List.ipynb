{
 "cells": [
  {
   "cell_type": "code",
   "execution_count": 1,
   "metadata": {},
   "outputs": [],
   "source": [
    "class Node(object):\n",
    "    def __init__(self, data, next_ptr = None):\n",
    "        self.data = data\n",
    "        self.next_ptr = next_ptr \n",
    "        \n",
    "    def __str__(self):\n",
    "        print(self.data)\n",
    "    \n",
    "class LinkedList(object):\n",
    "    def __init__(self, head = None):\n",
    "        self.head = head\n",
    "        \n",
    "    def insert_start(self, data):\n",
    "        new_node = Node(data)\n",
    "        new_node.next_ptr = self.head\n",
    "        self.head = new_node\n",
    "        \n",
    "    def insert_middle(self, data, position):\n",
    "        new_node = Node(data)\n",
    "        current_node = self.head\n",
    "        count_index = 1\n",
    "        \n",
    "        while count_index < position - 1:\n",
    "            current_node = current_node.next_ptr\n",
    "            count_index += 1\n",
    "            \n",
    "        new_node.next_ptr = current_node.next_ptr\n",
    "        current_node.next_ptr = new_node\n",
    "    \n",
    "    def insert_end(self, data):\n",
    "        new_node = Node(data)\n",
    "        current_node = self.head\n",
    "        \n",
    "        if self.head == None:\n",
    "            self.head = new_node\n",
    "            return \n",
    "        \n",
    "        while current_node.next_ptr:\n",
    "            current_node = current_node.next_ptr\n",
    "            \n",
    "        current_node.next_ptr = new_node\n",
    "\n",
    "    def delete_start(self):\n",
    "        if self.head == None:\n",
    "            return \"Linked List is empty\"\n",
    "        \n",
    "        self.head = self.head.next_ptr\n",
    "    \n",
    "    def delete_middle(self, data):\n",
    "        current_node = self.head\n",
    "        \n",
    "        while current_node.next_ptr.data != data:\n",
    "            current_node = current_node.next_ptr\n",
    "            \n",
    "        if current_node.next_ptr == None:\n",
    "            return \"Item not found in Linked List\"\n",
    "        else:\n",
    "            current_node.next_ptr = current_node.next_ptr.next_ptr\n",
    "        \n",
    "    def delete_end(self):\n",
    "        current_node = self.head\n",
    "        \n",
    "        while current_node.next_ptr.next_ptr:\n",
    "            current_node = current_node.next_ptr\n",
    "            \n",
    "        current_node.next_ptr = None   \n",
    "        \n",
    "    def traverse_list(self):\n",
    "        if self.head == None:\n",
    "            return \"Linked List is empty\"\n",
    "        \n",
    "        current_node = self.head\n",
    "        \n",
    "        while current_node:\n",
    "            print(f\"{current_node.data} \", end=\"\"),\n",
    "            current_node = current_node.next_ptr\n",
    "        "
   ]
  },
  {
   "cell_type": "code",
   "execution_count": 2,
   "metadata": {},
   "outputs": [],
   "source": [
    "singly_list = LinkedList()"
   ]
  },
  {
   "cell_type": "code",
   "execution_count": 3,
   "metadata": {},
   "outputs": [
    {
     "data": {
      "text/plain": [
       "'Linked List is empty'"
      ]
     },
     "execution_count": 3,
     "metadata": {},
     "output_type": "execute_result"
    }
   ],
   "source": [
    "singly_list.traverse_list()"
   ]
  },
  {
   "cell_type": "code",
   "execution_count": 4,
   "metadata": {},
   "outputs": [],
   "source": [
    "singly_list.insert_start(5)"
   ]
  },
  {
   "cell_type": "code",
   "execution_count": 5,
   "metadata": {},
   "outputs": [
    {
     "name": "stdout",
     "output_type": "stream",
     "text": [
      "5 "
     ]
    }
   ],
   "source": [
    "singly_list.traverse_list()"
   ]
  },
  {
   "cell_type": "code",
   "execution_count": 6,
   "metadata": {},
   "outputs": [],
   "source": [
    "singly_list.insert_start(6)"
   ]
  },
  {
   "cell_type": "code",
   "execution_count": 7,
   "metadata": {},
   "outputs": [
    {
     "name": "stdout",
     "output_type": "stream",
     "text": [
      "6 5 "
     ]
    }
   ],
   "source": [
    "singly_list.traverse_list()"
   ]
  },
  {
   "cell_type": "code",
   "execution_count": 8,
   "metadata": {},
   "outputs": [],
   "source": [
    "singly_list.insert_start(6)\n",
    "singly_list.insert_start(8)\n",
    "singly_list.insert_start(4)\n",
    "singly_list.insert_start(9)\n",
    "singly_list.insert_start(10)\n",
    "singly_list.insert_start(3)\n",
    "singly_list.insert_start(6)"
   ]
  },
  {
   "cell_type": "code",
   "execution_count": 9,
   "metadata": {},
   "outputs": [
    {
     "name": "stdout",
     "output_type": "stream",
     "text": [
      "6 3 10 9 4 8 6 6 5 "
     ]
    }
   ],
   "source": [
    "singly_list.traverse_list()"
   ]
  },
  {
   "cell_type": "code",
   "execution_count": 10,
   "metadata": {},
   "outputs": [],
   "source": [
    "singly_list.insert_end(6)\n",
    "singly_list.insert_end(8)\n",
    "singly_list.insert_end(4)\n",
    "singly_list.insert_end(9)\n",
    "singly_list.insert_end(10)\n",
    "singly_list.insert_end(3)\n",
    "singly_list.insert_end(6)"
   ]
  },
  {
   "cell_type": "code",
   "execution_count": 11,
   "metadata": {},
   "outputs": [
    {
     "name": "stdout",
     "output_type": "stream",
     "text": [
      "6 3 10 9 4 8 6 6 5 6 8 4 9 10 3 6 "
     ]
    }
   ],
   "source": [
    "singly_list.traverse_list()"
   ]
  },
  {
   "cell_type": "code",
   "execution_count": 12,
   "metadata": {},
   "outputs": [],
   "source": [
    "singly_list.insert_middle(1, 2)\n",
    "singly_list.insert_middle(1, 4)\n",
    "singly_list.insert_middle(1, 6)\n",
    "singly_list.insert_middle(1, 8)\n",
    "singly_list.insert_middle(1, 10)\n",
    "singly_list.insert_middle(1, 12)\n",
    "singly_list.insert_middle(1, 14)"
   ]
  },
  {
   "cell_type": "code",
   "execution_count": 13,
   "metadata": {},
   "outputs": [
    {
     "name": "stdout",
     "output_type": "stream",
     "text": [
      "6 1 3 1 10 1 9 1 4 1 8 1 6 1 6 5 6 8 4 9 10 3 6 "
     ]
    }
   ],
   "source": [
    "singly_list.traverse_list()"
   ]
  },
  {
   "cell_type": "code",
   "execution_count": 14,
   "metadata": {},
   "outputs": [
    {
     "name": "stdout",
     "output_type": "stream",
     "text": [
      "1 3 1 10 1 9 1 4 1 8 1 6 1 6 5 6 8 4 9 10 3 6 "
     ]
    }
   ],
   "source": [
    "singly_list.delete_start()\n",
    "singly_list.traverse_list()"
   ]
  },
  {
   "cell_type": "code",
   "execution_count": 15,
   "metadata": {},
   "outputs": [
    {
     "name": "stdout",
     "output_type": "stream",
     "text": [
      "3 1 10 1 9 1 4 1 8 1 6 1 6 5 6 8 4 9 10 3 6 "
     ]
    }
   ],
   "source": [
    "singly_list.delete_start()\n",
    "singly_list.traverse_list()"
   ]
  },
  {
   "cell_type": "code",
   "execution_count": 16,
   "metadata": {},
   "outputs": [
    {
     "name": "stdout",
     "output_type": "stream",
     "text": [
      "1 10 1 9 1 4 1 8 1 6 1 6 5 6 8 4 9 10 3 6 "
     ]
    }
   ],
   "source": [
    "singly_list.delete_start()\n",
    "singly_list.traverse_list()"
   ]
  },
  {
   "cell_type": "code",
   "execution_count": 17,
   "metadata": {},
   "outputs": [
    {
     "name": "stdout",
     "output_type": "stream",
     "text": [
      "1 10 1 9 1 4 1 8 1 6 1 6 5 6 8 4 9 10 3 "
     ]
    }
   ],
   "source": [
    "singly_list.delete_end()\n",
    "singly_list.traverse_list()"
   ]
  },
  {
   "cell_type": "code",
   "execution_count": 18,
   "metadata": {},
   "outputs": [
    {
     "name": "stdout",
     "output_type": "stream",
     "text": [
      "1 10 1 9 1 4 1 8 1 6 1 6 5 6 8 4 9 10 "
     ]
    }
   ],
   "source": [
    "singly_list.delete_end()\n",
    "singly_list.traverse_list()"
   ]
  },
  {
   "cell_type": "code",
   "execution_count": 19,
   "metadata": {},
   "outputs": [
    {
     "name": "stdout",
     "output_type": "stream",
     "text": [
      "1 10 1 9 1 1 8 1 6 1 6 5 6 8 4 9 10 "
     ]
    }
   ],
   "source": [
    "singly_list.delete_middle(4)\n",
    "singly_list.traverse_list()"
   ]
  },
  {
   "cell_type": "code",
   "execution_count": 20,
   "metadata": {},
   "outputs": [
    {
     "name": "stdout",
     "output_type": "stream",
     "text": [
      "1 10 1 9 1 1 1 6 1 6 5 6 8 4 9 10 "
     ]
    }
   ],
   "source": [
    "singly_list.delete_middle(8)\n",
    "singly_list.traverse_list()"
   ]
  },
  {
   "cell_type": "code",
   "execution_count": 21,
   "metadata": {},
   "outputs": [
    {
     "name": "stdout",
     "output_type": "stream",
     "text": [
      "1 10 9 1 1 1 6 1 6 5 6 8 4 9 10 "
     ]
    }
   ],
   "source": [
    "singly_list.delete_middle(1)\n",
    "singly_list.traverse_list()"
   ]
  },
  {
   "cell_type": "code",
   "execution_count": 22,
   "metadata": {},
   "outputs": [
    {
     "name": "stdout",
     "output_type": "stream",
     "text": [
      "1 9 1 1 1 6 1 6 5 6 8 4 9 10 "
     ]
    }
   ],
   "source": [
    "singly_list.delete_middle(10)\n",
    "singly_list.traverse_list()"
   ]
  },
  {
   "cell_type": "code",
   "execution_count": null,
   "metadata": {},
   "outputs": [],
   "source": []
  }
 ],
 "metadata": {
  "colab": {
   "provenance": []
  },
  "kernelspec": {
   "display_name": "Python 3 (ipykernel)",
   "language": "python",
   "name": "python3"
  },
  "language_info": {
   "codemirror_mode": {
    "name": "ipython",
    "version": 3
   },
   "file_extension": ".py",
   "mimetype": "text/x-python",
   "name": "python",
   "nbconvert_exporter": "python",
   "pygments_lexer": "ipython3",
   "version": "3.11.4"
  }
 },
 "nbformat": 4,
 "nbformat_minor": 1
}
